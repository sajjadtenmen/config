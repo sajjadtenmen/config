{
 "cells": [
  {
   "cell_type": "code",
   "execution_count": 9,
   "metadata": {},
   "outputs": [
    {
     "name": "stderr",
     "output_type": "stream",
     "text": [
      "Neither CUDA nor MPS are available - defaulting to CPU. Note: This module is much faster with a GPU.\n"
     ]
    },
    {
     "name": "stdout",
     "output_type": "stream",
     "text": [
      "Untitled-1.ipynb\n",
      "Untitled-1,ipynb >\n",
      "import \n",
      "1\n",
      "Untitled-L.ipynb\n",
      "Code\n",
      "Markdown\n",
      "Ru\n",
      "(output)\n",
      "PYTHONOCR\n",
      "V\n",
      "result\n",
      "9\n",
      "reader.re\n",
      "imagejpg\n",
      "Print the extrac\n",
      "for detection in\n",
      "r\n",
      "num3jfif\n",
      "prInt (detectlo\n",
      "numajpg\n",
      "[7]\n",
      "163s\n",
      "2\n",
      "Neither CUDA nor MPS\n",
      "F1c0518\n",
      "numtojpg\n",
      "M\n",
      "num12png\n",
      "11934702 \n",
      "Molnj\n",
      "BDVO840\n",
      "numiajeg\n",
      "P1e952|\n",
      "numisjpg\n",
      "ESevddz\n",
      "numberjpg\"\n",
      "ESDvdvdl\n",
      "nummJpg\n",
      "77\n",
      "M \n",
      "Dmo\n",
      "W |\n",
      "num2jpg\n",
      "num5jpg\n",
      "num6jpg\n",
      "num13 png\n",
      "678\n"
     ]
    }
   ],
   "source": [
    "import easyocr\n",
    "\n",
    "# Create an OCR reader object\n",
    "reader = easyocr.Reader(['en'])\n",
    "\n",
    "# Read text from an image\n",
    "result = reader.readtext('numweb.jpg')\n",
    "\n",
    "# Print the extracted text\n",
    "for detection in result:\n",
    "    print(detection[1])"
   ]
  },
  {
   "cell_type": "code",
   "execution_count": 8,
   "metadata": {},
   "outputs": [
    {
     "name": "stdout",
     "output_type": "stream",
     "text": [
      "tensor([[0.0818, 0.8566, 0.7051],\n",
      "        [0.3229, 0.8396, 0.1084],\n",
      "        [0.6379, 0.3761, 0.0826],\n",
      "        [0.4271, 0.6991, 0.7497],\n",
      "        [0.1374, 0.6044, 0.9025]])\n"
     ]
    }
   ],
   "source": [
    "import torch\n",
    "x = torch.rand(5, 3)\n",
    "print(x)\n"
   ]
  }
 ],
 "metadata": {
  "kernelspec": {
   "display_name": "Python 3",
   "language": "python",
   "name": "python3"
  },
  "language_info": {
   "codemirror_mode": {
    "name": "ipython",
    "version": 3
   },
   "file_extension": ".py",
   "mimetype": "text/x-python",
   "name": "python",
   "nbconvert_exporter": "python",
   "pygments_lexer": "ipython3",
   "version": "3.12.4"
  }
 },
 "nbformat": 4,
 "nbformat_minor": 2
}
